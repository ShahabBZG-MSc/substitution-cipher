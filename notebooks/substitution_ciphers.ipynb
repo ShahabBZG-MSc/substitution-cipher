{
 "cells": [
  {
   "cell_type": "markdown",
   "id": "00172a96",
   "metadata": {},
   "source": [
    "# Substitution Ciphers"
   ]
  },
  {
   "cell_type": "code",
   "execution_count": null,
   "id": "9bb592df",
   "metadata": {},
   "outputs": [],
   "source": [
    "# Ensure we can import from src/ when running the notebook from notebooks/\n",
    "import sys, os\n",
    "from pathlib import Path\n",
    "\n",
    "# repo root = parent of the notebooks folder\n",
    "ROOT = Path(os.getcwd()).resolve().parent\n",
    "sys.path.insert(0, str(ROOT / \"src\"))\n",
    "\n",
    "# sanity check (optional)\n",
    "print(\"cwd:\", os.getcwd())\n",
    "print(\"src on sys.path:\", any(p.endswith(os.sep + \"src\") for p in sys.path))"
   ]
  },
  {
   "cell_type": "code",
   "execution_count": null,
   "id": "082b70d2-197b-4c55-9092-4c1cb02a6298",
   "metadata": {},
   "outputs": [],
   "source": [
    "import string\n",
    "from collections import Counter\n",
    "import matplotlib.pyplot as plt\n",
    "import numpy as np\n",
    "import pickle\n",
    "from crypto.paths import DATA_DIR"
   ]
  },
  {
   "cell_type": "markdown",
   "id": "c20a9001-f4fd-401f-922b-db8347ff36fe",
   "metadata": {},
   "source": [
    "## Introduction"
   ]
  },
  {
   "attachments": {},
   "cell_type": "markdown",
   "id": "88c571e3-d03d-4506-a411-67663dc6ff9f",
   "metadata": {},
   "source": [
    "This report examines the design, implementation, and security implications of two fundamental cryptographic techniques: the Caesar Cipher and the Simple Substitution Cipher. These methods provide insight into early encryption strategies and serve as a foundation for understanding modern cryptographic principles. This report includes encryption, decryption, and attack methods."
   ]
  },
  {
   "cell_type": "markdown",
   "id": "6a297866",
   "metadata": {},
   "source": [
    "## Caesar Cipher"
   ]
  },
  {
   "attachments": {},
   "cell_type": "markdown",
   "id": "b53b1655",
   "metadata": {},
   "source": [
    "The Caesar Cipher is a shift cipher that replaces each letter in the plaintext with another letter a fixed number of positions down the alphabet. The provided implementation (`caesar_encrypt`) performs this shifting mechanism efficiently."
   ]
  },
  {
   "cell_type": "markdown",
   "id": "b29aef0d-75ee-4da1-b058-09fea1bb9c0a",
   "metadata": {},
   "source": [
    "### Encryption"
   ]
  },
  {
   "attachments": {},
   "cell_type": "markdown",
   "id": "2e6e2a74",
   "metadata": {},
   "source": [
    "Definig a function that iterates through each character in the plaintext, shifts it according to the given key, and reconstructs the modified ciphertext while preserving non-alphabetic characters."
   ]
  },
  {
   "cell_type": "code",
   "execution_count": null,
   "id": "43b53968-3fbb-4ac1-a373-6b29c4845f08",
   "metadata": {},
   "outputs": [],
   "source": [
    "def caesar_encrypt(plaintext: str, shift: int = 0) -> str:\n",
    "    alphabet = string.ascii_lowercase\n",
    "    out = []\n",
    "    for ch in plaintext:\n",
    "        if ch in alphabet:\n",
    "            idx = (alphabet.index(ch) + shift) % 26\n",
    "            out.append(alphabet[idx])\n",
    "        else:\n",
    "            # leave uppercase / punctuation / spaces unchanged\n",
    "            out.append(ch)\n",
    "    return \"\".join(out)"
   ]
  },
  {
   "cell_type": "code",
   "execution_count": null,
   "id": "9eb77216-0505-4a29-a8e8-458e273a91f4",
   "metadata": {},
   "outputs": [],
   "source": [
    "# code snippet to test the implementation of the encryption function\n",
    "plaintext = 'hello!' \n",
    "ciphertext = caesar_encrypt(plaintext, shift=4)\n",
    "\n",
    "print(plaintext, '->', ciphertext) # expected output 'hello! -> lipps!'"
   ]
  },
  {
   "cell_type": "markdown",
   "id": "d79da87f-6130-427e-9104-9619e3b7b5e4",
   "metadata": {},
   "source": [
    "### Decryption"
   ]
  },
  {
   "attachments": {},
   "cell_type": "markdown",
   "id": "c97687e4",
   "metadata": {},
   "source": [
    "Defining a function that reverses the encryption process by shifting the characters back to their original positions, restoring the plaintext."
   ]
  },
  {
   "cell_type": "code",
   "execution_count": null,
   "id": "a5b0d026",
   "metadata": {},
   "outputs": [],
   "source": [
    "def caesar_decrypt(ciphertext: str, shift: int = 0) -> str:\n",
    "    alphabet = string.ascii_lowercase\n",
    "    out = []\n",
    "    for ch in ciphertext:\n",
    "        if ch in alphabet:\n",
    "            idx = (alphabet.index(ch) - shift) % 26\n",
    "            out.append(alphabet[idx])\n",
    "        else:\n",
    "            out.append(ch)\n",
    "    return \"\".join(out)"
   ]
  },
  {
   "cell_type": "code",
   "execution_count": null,
   "id": "4317bf77",
   "metadata": {},
   "outputs": [],
   "source": [
    "# code snippet to test the implementation of the decryption function\n",
    "ciphertext = 'lipps!' # 'hello!' encoded with shift=4\n",
    "plaintext = caesar_decrypt(ciphertext, shift=4)\n",
    "\n",
    "print(ciphertext, '->', plaintext)  # expected output 'lipps! -> hello!'"
   ]
  },
  {
   "cell_type": "markdown",
   "id": "6bf38609",
   "metadata": {},
   "source": [
    "### Ciphertext"
   ]
  },
  {
   "cell_type": "code",
   "execution_count": null,
   "id": "09746945-d53e-47eb-8bf2-0079a150ecdc",
   "metadata": {},
   "outputs": [],
   "source": [
    "file_path = DATA_DIR / \"ciphertext_caesar.txt\"  # Input the Ciphertext file path\n",
    "with open(file_path, \"r\", encoding=\"utf-8\") as file:\n",
    "    ciphertext = file.read().strip()    # Read the whole file and remove extra spaces"
   ]
  },
  {
   "cell_type": "markdown",
   "id": "36d3498f",
   "metadata": {},
   "source": [
    "### Brute Force Attack"
   ]
  },
  {
   "attachments": {},
   "cell_type": "markdown",
   "id": "1c3d1d7c-d12a-4104-8eae-c3ec454069ea",
   "metadata": {},
   "source": [
    "Given that the Caesar Cipher has only 25 possible keys, the brute force attack implemented in the notebook systematically tries all possible shifts and lets the operator evaluate which produces a meaningful result."
   ]
  },
  {
   "cell_type": "code",
   "execution_count": null,
   "id": "de080a59-7b09-44b7-82a3-ab3bfc76d0ca",
   "metadata": {
    "collapsed": true,
    "jupyter": {
     "outputs_hidden": true
    }
   },
   "outputs": [],
   "source": [
    "for shift in range(26):    #implement decryption algorithm for all shifts\n",
    "    plaintext = caesar_decrypt(ciphertext, shift) \n",
    "    print('__________________________________________________________________')\n",
    "    print(f\"{shift} : {''.join(plaintext[:100])}\")"
   ]
  },
  {
   "cell_type": "code",
   "execution_count": null,
   "id": "aeeb5386-91a3-405a-81c8-7a106a44f12c",
   "metadata": {
    "collapsed": true,
    "jupyter": {
     "outputs_hidden": true
    }
   },
   "outputs": [],
   "source": [
    "shift = 18\n",
    "plaintext = caesar_decrypt(ciphertext, shift) \n",
    "print(f\"{shift} : {''.join(plaintext)[:200]}\")"
   ]
  },
  {
   "cell_type": "markdown",
   "id": "9503d65c",
   "metadata": {},
   "source": [
    "## Simple Substitution Cipher"
   ]
  },
  {
   "attachments": {},
   "cell_type": "markdown",
   "id": "1142538f-3869-4cde-b822-e75b386169ad",
   "metadata": {},
   "source": [
    "A Simple Substitution Cipher maps each letter in the plaintext to a unique letter based on a randomized key. The program includes an implementation that creates such mappings dynamically."
   ]
  },
  {
   "cell_type": "markdown",
   "id": "1b6cc83d-e26d-49cc-8475-0789d2425df0",
   "metadata": {},
   "source": [
    "### Encryption"
   ]
  },
  {
   "attachments": {},
   "cell_type": "markdown",
   "id": "645b846b",
   "metadata": {},
   "source": [
    "Defining a function that substitutes each letter in the plaintext with a corresponding mapped letter from a predefined key using a dictionary structure."
   ]
  },
  {
   "cell_type": "code",
   "execution_count": null,
   "id": "dd72620a-d955-4fba-872f-ebcd005d484d",
   "metadata": {},
   "outputs": [],
   "source": [
    "def substitution_encrypt(plaintext: str, mapping: dict[str, str]) -> str:\n",
    "    out = []\n",
    "    for ch in plaintext:\n",
    "        if ch.isalpha() and ch.lower() in mapping:\n",
    "            enc = mapping[ch.lower()]\n",
    "            out.append(enc.upper() if ch.isupper() else enc)\n",
    "        else:\n",
    "            out.append(ch)\n",
    "    return \"\".join(out)"
   ]
  },
  {
   "cell_type": "code",
   "execution_count": null,
   "id": "177d186b-bc0a-4dca-a1b4-b1244cfb7bb1",
   "metadata": {},
   "outputs": [],
   "source": [
    "# code snippet to test the implementation of the encryption function\n",
    "plaintext = 'hello!'\n",
    "mapping = {'h': 'a', 'e': 'p', 'l': 'w', 'o': 'q'} \n",
    "\n",
    "ciphertext = substitution_encrypt(plaintext, mapping)\n",
    "\n",
    "print(plaintext, '->', ciphertext) # expected output 'hello! -> apwwq!'"
   ]
  },
  {
   "cell_type": "markdown",
   "id": "cd574022-82e0-4163-807a-aabb6bd4b86d",
   "metadata": {},
   "source": [
    "### Decryption"
   ]
  },
  {
   "attachments": {},
   "cell_type": "markdown",
   "id": "26791136",
   "metadata": {},
   "source": [
    "The decryption function (`substitution_decrypt`) reverses this process by using an inverse mapping of the key to restore the original plaintext."
   ]
  },
  {
   "cell_type": "code",
   "execution_count": null,
   "id": "adb6fd3b",
   "metadata": {},
   "outputs": [],
   "source": [
    "def substitution_decrypt(ciphertext: str, mapping: dict[str, str]) -> str:\n",
    "    inv = {v: k for k, v in mapping.items()}\n",
    "    out = []\n",
    "    for ch in ciphertext:\n",
    "        lo = ch.lower()\n",
    "        if ch.isalpha() and lo in inv:\n",
    "            dec = inv[lo]\n",
    "            out.append(dec.upper() if ch.isupper() else dec)\n",
    "        else:\n",
    "            out.append(ch)\n",
    "    return \"\".join(out)\n"
   ]
  },
  {
   "cell_type": "code",
   "execution_count": null,
   "id": "33b9b1e0-9132-4147-8d14-5b036f7a0658",
   "metadata": {},
   "outputs": [],
   "source": [
    "# code snippet to test the implementation of the decryption function\n",
    "mapping = {'h': 'a', 'e': 'p', 'l': 'w', 'o': 'q'}  # previous mapping \n",
    "ciphertext = 'apwwq!'\n",
    "\n",
    "plaintext = substitution_decrypt(ciphertext, mapping)\n",
    "\n",
    "print(ciphertext, '->', plaintext)  # expected output 'apwwq! -> hello!'"
   ]
  },
  {
   "cell_type": "markdown",
   "id": "a0a843fd-8f7d-4189-8a7c-d7015d9c2897",
   "metadata": {},
   "source": [
    "### Ciphertext"
   ]
  },
  {
   "cell_type": "code",
   "execution_count": null,
   "id": "8d8aa5ee-a119-48c0-a9e8-3b4b8a3cb034",
   "metadata": {},
   "outputs": [],
   "source": [
    "# Load ciphertext\n",
    "file_path = DATA_DIR / \"ciphertext_simple.txt\"\n",
    "with open(file_path, \"r\", encoding=\"utf-8\") as file:\n",
    "    ctext = file.read()\n",
    "    print(ctext[:200])"
   ]
  },
  {
   "cell_type": "markdown",
   "id": "17025077-c0a2-4a1c-add8-a79897c1d4a0",
   "metadata": {},
   "source": [
    "### Frequency Analysis Attack"
   ]
  },
  {
   "attachments": {},
   "cell_type": "markdown",
   "id": "abda6491-1fb9-4442-b3bc-69c403bfc413",
   "metadata": {},
   "source": [
    "This cipher is vulnerable to frequency analysis, which is implemented using the Counter module to compare letter frequencies in the ciphertext against known English letter distributions."
   ]
  },
  {
   "cell_type": "markdown",
   "id": "59434d7e-a0c1-4d03-8c84-a1f9c948f935",
   "metadata": {},
   "source": [
    "#### English Letters Distribution"
   ]
  },
  {
   "attachments": {},
   "cell_type": "markdown",
   "id": "bd92652c",
   "metadata": {},
   "source": [
    "This code cell includes a letter frequency analysis function(`letter_distribution`) to evaluate the distribution of characters, leveraging known statistical patterns to deduce the mapping."
   ]
  },
  {
   "cell_type": "code",
   "execution_count": null,
   "id": "4e9a0d70-5652-4a5e-bb57-84ed8282b3da",
   "metadata": {},
   "outputs": [],
   "source": [
    "# function to infer the letter distribution from a text\n",
    "def letter_frequencies(text: str) -> dict[str, float]:\n",
    "    \"\"\"\n",
    "    Return normalized frequencies of a–z in the given text (case-insensitive).\n",
    "    Only includes letters that appear at least once, sorted by letter.\n",
    "    \"\"\"\n",
    "    text = text.lower()\n",
    "    filtered = [ch for ch in text if ch in string.ascii_lowercase]\n",
    "    n = len(filtered)\n",
    "    if n == 0:\n",
    "        return {}\n",
    "    counts = Counter(filtered)\n",
    "    return {char: count / n for char, count in sorted(counts.items())}"
   ]
  },
  {
   "cell_type": "code",
   "execution_count": null,
   "id": "b7131445-b0b8-44c7-8918-9fad5cb7475a",
   "metadata": {},
   "outputs": [],
   "source": [
    "# code snippet to test the implementation of `letter_frequencies`\n",
    "text = 'hello world!'\n",
    "\n",
    "letter_frequencies(text)\n",
    "# expected ouput: \n",
    "# {'d': 0.1, 'e': 0.1, 'h': 0.1, 'l': 0.3, 'o': 0.2, 'r': 0.1, 'w': 0.1, ...}"
   ]
  },
  {
   "cell_type": "code",
   "execution_count": null,
   "id": "0052ab81-e261-4660-ab34-f86582601c67",
   "metadata": {},
   "outputs": [],
   "source": [
    "# Load English Text\n",
    "file_path = DATA_DIR / \"wikipedia_cybersecurity.txt\"\n",
    "with open(file_path, \"r\", encoding=\"utf-8\") as file:\n",
    "    txt = file.read().lower()\n",
    "    print(txt[:200])"
   ]
  },
  {
   "cell_type": "code",
   "execution_count": null,
   "id": "eeae9160-8631-4d25-bbb9-79aac9547d23",
   "metadata": {},
   "outputs": [],
   "source": [
    "# estimate the English letters distribution \n",
    "txt_distribituin = letter_frequencies(txt)\n",
    "print(txt_distribituin)"
   ]
  },
  {
   "cell_type": "code",
   "execution_count": null,
   "id": "266c71cd-20c3-4a53-9050-f380aef8eff4",
   "metadata": {},
   "outputs": [],
   "source": [
    "# plot the English letter distribution\n",
    "plt.bar(txt_distribituin.keys(), txt_distribituin.values(), align=\"center\", width=0.5, alpha=0.5, color=\"red\")\n",
    "plt.title(\"Letter Frequency Distribution\")\n",
    "plt.xlabel(\"Letters\")\n",
    "plt.ylabel(\"Frequency\")"
   ]
  },
  {
   "cell_type": "code",
   "execution_count": null,
   "id": "862cf0c3-d828-4e1c-a10c-485d7f7c5a5d",
   "metadata": {},
   "outputs": [],
   "source": [
    "# store the distribution as a pickle file\n",
    "with open(\"eng_dst.pkl\", \"wb\") as f:\n",
    "    pickle.dump(txt_distribituin, f)"
   ]
  },
  {
   "cell_type": "markdown",
   "id": "843e03cd",
   "metadata": {},
   "source": [
    "#### Perform attack"
   ]
  },
  {
   "attachments": {},
   "cell_type": "markdown",
   "id": "75bf4238",
   "metadata": {},
   "source": [
    "This code generates an initial letter mapping by comparing frequency distributions of the ciphertext and the expected plaintext. It:  \n",
    "\n",
    "1. **Computes Letter Frequencies** – Analyzes letter distribution in the ciphertext (`ciphertext_distribution`).  \n",
    "2. **Sorts by Frequency** – Orders both the ciphertext and expected plaintext distributions in descending order.  \n",
    "3. **Creates an Initial Mapping** – Matches the most frequent letters in the plaintext with those in the ciphertext using `zip()`.  \n",
    "\n",
    "This provides a starting point for decrypting a **substitution cipher** using frequency analysis."
   ]
  },
  {
   "cell_type": "code",
   "execution_count": null,
   "id": "af14a82e-0202-4d9f-abb3-e1feba2c439c",
   "metadata": {},
   "outputs": [],
   "source": [
    "# perform Frequency analysis attack\n",
    "ciphertext_distribiution = letter_frequencies(ctext)\n",
    "ciphertext_distribiution = {k: v for k, v in sorted(ciphertext_distribiution.items(), key=lambda x: x[1], reverse=True)}\n",
    "txt_distribituin = {k: v for k, v in sorted(txt_distribituin.items(), key=lambda x: x[1], reverse=True)}\n",
    "mapping = {txt_key: cipher_key for (txt_key, _), (cipher_key, _) in zip(txt_distribituin.items(), ciphertext_distribiution.items())}\n",
    "fig , axes = plt.subplots(2, 1, figsize=(6, 12))\n",
    "axes[0].bar(txt_distribituin.keys(), txt_distribituin.values(), align=\"center\", width=0.5, alpha=0.5, color=\"blue\")\n",
    "axes[0].set_title(\"Eng Alphabet Letter Distribution\")\n",
    "axes[0].set_xlabel(\"Letters\")\n",
    "axes[0].set_ylabel(\"Frequency\")\n",
    "axes[1].bar(ciphertext_distribiution.keys(), ciphertext_distribiution.values(), align=\"center\", width=0.5, alpha=0.5, color=\"red\")\n",
    "axes[1].set_title(\"Ciphertext Letter Distribution\")\n",
    "axes[1].set_xlabel(\"Letters\")\n",
    "axes[1].set_ylabel(\"Frequency\")\n"
   ]
  },
  {
   "cell_type": "code",
   "execution_count": null,
   "id": "bd3d17c5-49f3-4dfc-8a55-f854c5168eb7",
   "metadata": {},
   "outputs": [],
   "source": [
    "# print mapping\n",
    "print(mapping)"
   ]
  },
  {
   "cell_type": "code",
   "execution_count": null,
   "id": "deb76657-5fce-4f72-9fee-9b4295f62c07",
   "metadata": {},
   "outputs": [],
   "source": [
    "# print decrypted plaintext\n",
    "plaintext = substitution_decrypt(ctext, mapping)\n",
    "print(plaintext[:200])\n"
   ]
  },
  {
   "cell_type": "markdown",
   "id": "b671f080",
   "metadata": {},
   "source": [
    "#### Update the mapping"
   ]
  },
  {
   "cell_type": "markdown",
   "id": "f2f7e069",
   "metadata": {},
   "source": [
    "As it is obvious in the printed plaintext, the mapping isn't fully correct and it needs to be updated with the correct values. We make an educated guess on what is the actual word in the main plaintext based on the word in the obtained plaintext and update the mapping.\n",
    "\n",
    "*exteonal links* --> *external links* --> r : o\n",
    "\n",
    "*a knrvn ulaintext attadk* --> *a known plaintext attack* --> o : r , w : v, p : u , c : d\n",
    "\n",
    "then we search the mapping for these values and then write the right mapping.\n",
    "\n",
    "`new_mapping = {'r' : 's', 'o' : 'd', 'w' : 'u', 'p' : 'y', 'c' : 'p'}`\n",
    "\n",
    "Now we must update the mapping in our program, these are the steps:\n",
    "\n",
    "1. **Updating the Mapping** – The program takes `new_mapping`, a dictionary of corrections, and updates the existing mapping.\n",
    "2. **Handling Conflicts** – If a letter in (`new_mapping`) is already assigned in `mapping`, the code swaps values to maintain uniqueness.\n",
    "3. **Applying Changes** – The mapping is updated, ensuring correct letter assignments while avoiding duplicates.\n",
    "4. **Decrypting Again** – The refined mapping is used to decrypt the ciphertext, bringing the output closer to the correct plaintext.\n",
    "5. **Repeating Until Correct** – This process is repeated with new educated guesses until the plaintext is fully recovered."
   ]
  },
  {
   "cell_type": "code",
   "execution_count": null,
   "id": "e1180a85",
   "metadata": {},
   "outputs": [],
   "source": [
    "new_mapping = {'r' : 's', 'o' : 'd', 'w' : 'u', 'p' : 'y', 'c' : 'p'}\n",
    "\n",
    "reverse_mapping = {v: k for k, v in mapping.items()}\n",
    "\n",
    "for key, new_value in new_mapping.items():\n",
    "    # Find the key that currently holds new_value\n",
    "    old_key = reverse_mapping[new_value]\n",
    "\n",
    "    # Swap values\n",
    "    mapping[old_key], mapping[key] = mapping[key], new_value\n",
    "\n",
    "    # Update reverse mapping\n",
    "    reverse_mapping[mapping[old_key]] = old_key\n",
    "    reverse_mapping[mapping[key]] = key\n",
    "        \n",
    "\n",
    "print(f'mapping: {mapping}\\n')              \n",
    "print(f'plaintext:\\n {substitution_decrypt(ctext, mapping)[:200]}')"
   ]
  },
  {
   "cell_type": "markdown",
   "id": "dacfd7e8",
   "metadata": {},
   "source": [
    "cipver --> cipher\n",
    "\n",
    "lossless hata codpression --> lossless data compression --> d : h , m : d \n",
    "\n",
    "*reyerences* --> *references* --> f : y\n",
    "\n",
    "*encrgption* --> *encryption* --> y : g\n",
    "\n",
    "*smfstitmtion* --> *substitution* --> u : m , b : f\n",
    "\n",
    "`new_mapping = {'m' : 'k', 'y' : 'e', 'd' : 'j' , 'f' : 'r' , 'u' : 'x' , 'b' : 'o'}`"
   ]
  },
  {
   "cell_type": "code",
   "execution_count": null,
   "id": "a0de9a6e",
   "metadata": {},
   "outputs": [],
   "source": [
    "new_mapping = {'m' : 'k', 'y' : 'e', 'd' : 'j' , 'f' : 'r' , 'u' : 'x' , 'b' : 'o'}\n",
    "\n",
    "reverse_mapping = {v: k for k, v in mapping.items()}\n",
    "\n",
    "for key, new_value in new_mapping.items():\n",
    "    # Find the key that currently holds new_value\n",
    "    old_key = reverse_mapping[new_value]\n",
    "\n",
    "    # Swap values\n",
    "    mapping[old_key], mapping[key] = mapping[key], new_value\n",
    "\n",
    "    # Update reverse mapping\n",
    "    reverse_mapping[mapping[old_key]] = old_key\n",
    "    reverse_mapping[mapping[key]] = key\n",
    "\n",
    "print(f'mapping: {mapping}\\n')\n",
    "print(f'plaintext:\\n {substitution_decrypt(ctext, mapping)[:200]}')"
   ]
  },
  {
   "cell_type": "markdown",
   "id": "cc726148",
   "metadata": {},
   "source": [
    "*unizue* --> *unique* --> q : z\n",
    "\n",
    "`new_mapping = {'q' : 'h'}`"
   ]
  },
  {
   "cell_type": "code",
   "execution_count": null,
   "id": "1290f92c",
   "metadata": {},
   "outputs": [],
   "source": [
    "new_mapping = {'q' : 'h'}\n",
    "\n",
    "reverse_mapping = {v: k for k, v in mapping.items()}\n",
    "\n",
    "for key, new_value in new_mapping.items():\n",
    "    # Find the key that currently holds new_value\n",
    "    old_key = reverse_mapping[new_value]\n",
    "\n",
    "    # Swap values\n",
    "    mapping[old_key], mapping[key] = mapping[key], new_value\n",
    "\n",
    "    # Update reverse mapping\n",
    "    reverse_mapping[mapping[old_key]] = old_key\n",
    "    reverse_mapping[mapping[key]] = key\n",
    "\n",
    "print(f'mapping: {mapping}\\n')\n",
    "print(f'plaintext:\\n {substitution_decrypt(ctext, mapping)[:200]}')"
   ]
  },
  {
   "cell_type": "markdown",
   "id": "04ca2b25-4875-4c46-8c53-700a2cf9b658",
   "metadata": {},
   "source": [
    "## Conclusion"
   ]
  },
  {
   "attachments": {},
   "cell_type": "markdown",
   "id": "a0b88e69-52b0-42d2-bcdd-8a53c94307e1",
   "metadata": {},
   "source": [
    "The provided Python implementation highlights the vulnerabilities of both the **Caesar Cipher** and **Simple Substitution Cipher**. While the Caesar Cipher is trivially broken using brute force, the Simple Substitution Cipher requires a more advanced frequency analysis attack. The results emphasize the importance of using more secure cryptographic techniques in real-world applications."
   ]
  },
  {
   "cell_type": "markdown",
   "id": "fac12557",
   "metadata": {},
   "source": [
    "## Affine cipher"
   ]
  },
  {
   "cell_type": "markdown",
   "id": "dcf3f513",
   "metadata": {},
   "source": [
    "### Encryption"
   ]
  },
  {
   "cell_type": "code",
   "execution_count": null,
   "id": "af140aca",
   "metadata": {},
   "outputs": [],
   "source": [
    "from math import gcd"
   ]
  },
  {
   "cell_type": "code",
   "execution_count": null,
   "id": "9fe23c9d",
   "metadata": {},
   "outputs": [],
   "source": [
    "def affine_encrypt(plaintext: str, a: int, b: int) -> str:\n",
    "    alphabet = string.ascii_lowercase\n",
    "    out = []\n",
    "    for ch in plaintext:\n",
    "        if ch in alphabet:\n",
    "            x = ord(ch) - ord(\"a\")\n",
    "            y = (a * x + b) % 26\n",
    "            out.append(chr(y + ord(\"a\")))\n",
    "        else:\n",
    "            out.append(ch)\n",
    "    return \"\".join(out)"
   ]
  },
  {
   "cell_type": "code",
   "execution_count": null,
   "id": "1faffc6d",
   "metadata": {},
   "outputs": [],
   "source": [
    "plaintext = 'hello world!'\n",
    "a, b = 3, 1\n",
    "\n",
    "ciphertext = affine_encrypt(plaintext, a, b)\n",
    "print(plaintext, '->', ciphertext) # expected output 'hello world! -> wniir praik!'"
   ]
  },
  {
   "cell_type": "markdown",
   "id": "6ee4d740",
   "metadata": {},
   "source": [
    "### Decryption"
   ]
  },
  {
   "cell_type": "code",
   "execution_count": null,
   "id": "9b61cbb5",
   "metadata": {},
   "outputs": [],
   "source": [
    "def affine_decrypt(ciphertext: str, a: int, b: int) -> str:\n",
    "    # find modular inverse of a mod 26\n",
    "    a_inv = None\n",
    "    for i in range(26):\n",
    "        if (a * i) % 26 == 1:\n",
    "            a_inv = i\n",
    "            break\n",
    "    if a_inv is None:\n",
    "        # not invertible; return text unchanged (or raise)\n",
    "        return ciphertext\n",
    "\n",
    "    alphabet = string.ascii_lowercase\n",
    "    out = []\n",
    "    for ch in ciphertext:\n",
    "        if ch in alphabet:\n",
    "            y = ord(ch) - ord(\"a\")\n",
    "            x = (a_inv * (y - b)) % 26\n",
    "            out.append(chr(x + ord(\"a\")))\n",
    "        else:\n",
    "            out.append(ch)\n",
    "    return \"\".join(out)"
   ]
  },
  {
   "cell_type": "code",
   "execution_count": null,
   "id": "acfcb8a2",
   "metadata": {},
   "outputs": [],
   "source": [
    "ciphertext = 'wniir praik!'\n",
    "a, b = 3, 1\n",
    "\n",
    "plaintext = affine_decrypt(ciphertext, a, b)\n",
    "print(ciphertext, '->', plaintext) # expected output 'wniir praik! -> hello world!'"
   ]
  },
  {
   "cell_type": "markdown",
   "id": "fe4d3364",
   "metadata": {},
   "source": [
    "### Ciphertext"
   ]
  },
  {
   "cell_type": "code",
   "execution_count": null,
   "id": "74953d84",
   "metadata": {},
   "outputs": [],
   "source": [
    "# Load ciphertext\n",
    "file_path = DATA_DIR / 'ciphertext_affine.txt'\n",
    "with open(file_path, 'r') as file:\n",
    "    ciphertext = file.read()"
   ]
  },
  {
   "cell_type": "markdown",
   "id": "41a85ed4",
   "metadata": {},
   "source": [
    "### Breaking Cipher"
   ]
  },
  {
   "cell_type": "code",
   "execution_count": null,
   "id": "a1f024d6",
   "metadata": {},
   "outputs": [],
   "source": [
    "freq = letter_frequencies(ciphertext)\n",
    "freq = {k: v for k, v in sorted(freq.items(), key=lambda x: x[1], reverse=True)}\n",
    "mapping = {k: v for k, v in zip( txt_distribituin.keys(), freq.keys())}\n",
    "print(mapping)"
   ]
  },
  {
   "cell_type": "code",
   "execution_count": null,
   "id": "c92b5545",
   "metadata": {},
   "outputs": [],
   "source": [
    "keys = list(mapping.keys())\n",
    "x_1 , x_2 = (ord(keys[0]) - ord('a')) % 26 , (ord(keys[1]) - ord('a')) % 26\n",
    "y_1 , y_2 = (ord(mapping[keys[0]]) - ord('a')) % 26, (ord(mapping[keys[1]]) - ord('a')) % 26\n",
    "\n",
    "a = ((y_2 - y_1) * pow((x_2 - x_1), -1, 26)) % 26\n",
    "b = (y_1 - a * x_1) % 26\n",
    "\n",
    "if gcd(a, 26) == 1:\n",
    "    decrypted = affine_decrypt(ciphertext, a, b)\n",
    "    print(decrypted[:200])\n",
    "else:\n",
    "    print('a is not invertible')"
   ]
  },
  {
   "cell_type": "markdown",
   "id": "b6b2e51d",
   "metadata": {},
   "source": [
    "## Conclusion"
   ]
  },
  {
   "cell_type": "markdown",
   "id": "1c5be6ed",
   "metadata": {},
   "source": [
    "The Affine cipher is **insecure** because it preserves letter frequencies, making it vulnerable to **frequency analysis** and **brute force attacks** due to its small keyspace. Our Python code demonstrates how easily it can be broken, proving it's unsuitable for modern encryption."
   ]
  }
 ],
 "metadata": {
  "kernelspec": {
   "display_name": "base",
   "language": "python",
   "name": "python3"
  },
  "language_info": {
   "codemirror_mode": {
    "name": "ipython",
    "version": 3
   },
   "file_extension": ".py",
   "mimetype": "text/x-python",
   "name": "python",
   "nbconvert_exporter": "python",
   "pygments_lexer": "ipython3",
   "version": "3.12.7"
  }
 },
 "nbformat": 4,
 "nbformat_minor": 5
}
